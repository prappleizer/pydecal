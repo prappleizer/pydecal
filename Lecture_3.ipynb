{
 "metadata": {
  "name": "",
  "signature": "sha256:99825ef632aa96ad322c3a47fb042ea9309c018867f69aadb1651a501ab14047"
 },
 "nbformat": 3,
 "nbformat_minor": 0,
 "worksheets": [
  {
   "cells": [
    {
     "cell_type": "heading",
     "level": 1,
     "metadata": {},
     "source": [
      "Week 3: Conditionals, Loops, and Functions"
     ]
    },
    {
     "cell_type": "heading",
     "level": 2,
     "metadata": {},
     "source": [
      "Conditionals"
     ]
    },
    {
     "cell_type": "markdown",
     "metadata": {},
     "source": [
      "- Conditionals allow us to set off portions of code that only run when a certain condition is met. In essence, it allows us to introduce a \"fork\" in our code through which we can control what happens in various situations (that's why loops and conditionals are often referred to as part of \"control flow\"). \n",
      "\n",
      "- The primary way of introducing conditionals into code is using an \"if statement\""
     ]
    },
    {
     "cell_type": "code",
     "collapsed": false,
     "input": [
      "import numpy as np\n",
      "from random import randint\n",
      "random_number = randint(0,100)\n",
      "if random_number > 50:\n",
      "    print \"Since the number was %s, You win the coin toss\" %(random_number)\n",
      "else: \n",
      "    print \"You're a loser and nobody likes you.\" \n",
      "    "
     ],
     "language": "python",
     "metadata": {},
     "outputs": [
      {
       "output_type": "stream",
       "stream": "stdout",
       "text": [
        "You're a loser and nobody likes you.\n"
       ]
      }
     ],
     "prompt_number": 5
    },
    {
     "cell_type": "markdown",
     "metadata": {},
     "source": [
      "Damn. Guess I'm a loser. You can run the code block above over and over to see that you'll either win or lose some of the rounds. Also, we've included a little formatting tip for getting the values of variables into print statements. Within a string, use %s everytime you want a variable's value, and then after the string do %(var1, var2, ...) in the order they appear in your string.\n",
      "\n",
      "If statement syntax: To put in words what happened above, the syntax is the word \"if\" followed by the condition <b>and a colon</b>, followed by a \"block\" of code (one to multiple lines) that are <i>indented</i> one tab with respect to the if statement. Tabbing back out lets you add more ifs/elifs/else statements. For example, lets say we had a three sided dice for the example below:"
     ]
    },
    {
     "cell_type": "code",
     "collapsed": false,
     "input": [
      "import numpy as np\n",
      "from random import randint\n",
      "random_number = randint(0,100)\n",
      "if random_number <33:\n",
      "    print \"Since the number was %s, You win the dice throw\" %(random_number)\n",
      "elif (random_number>=33) and (random_number<66): \n",
      "    print \"You're a loser and nobody likes you.\" \n",
      "else:\n",
      "    print \"You're still a loser, and nobody likes you.\"\n",
      "\n",
      "a = raw_input('enter thing: ')\n",
      "try:\n",
      "    a = float(a)\n",
      "except:\n",
      "    print \"you're a loser\""
     ],
     "language": "python",
     "metadata": {},
     "outputs": [
      {
       "output_type": "stream",
       "stream": "stdout",
       "text": [
        "You're still a loser, and nobody likes you.\n"
       ]
      }
     ],
     "prompt_number": 7
    },
    {
     "cell_type": "markdown",
     "metadata": {},
     "source": [
      "Damn, still a loser. As we can see, there are now three conditions that could be met. We could've used and elif for the last statement as well and specified between 66-100, but since it's a closed system it was faster to just write an else. Note above you can see the syntax for applying multiple conditions in one line (and could be replaced with or based on your needs). \n",
      "\n",
      "If statements can be used for small chunks of code within a larger code, as above, or you could create entire codes (hundreds of lines) that run in alternate conditions. "
     ]
    },
    {
     "cell_type": "heading",
     "level": 2,
     "metadata": {},
     "source": [
      "Loops"
     ]
    },
    {
     "cell_type": "markdown",
     "metadata": {},
     "source": [
      "- Loops allow us to set off blocks of code to be run over and over a set number of times. This seems kind of dumb at first, but with the use of <i>iterators</i> we can have the block run slightly differently each time, and this becomes incredibly useful. \n",
      "\n",
      "- There are two main kinds of loops: While loops and For loops. While loops simply repeat a block of code over and over so long as a certain condition is true. (see below). \n",
      "\n",
      "- For loops allow us to choose a variable (usually a list or array) to iterate over, plugging in values from the list each time the loop is run. \n",
      "\n",
      "Lets start with a while loop. I've gotten sick and tired of losing my dumb dice game above, so I want to write a block that will keep playing it over and over automatically until I win. I've entered the while conditional below, fill in the rest of the code to make this happen! (You can copy and paste the block from example one but you will need to adjust it slightly by adding a condition_win variable somewhere, and changing it to anything other than 0 if I do win). Make sure the while loop is indented! So if you copy and paste from above, also hit tab once to indent everything.\n",
      "\n",
      "<b> Warning: When you make a while loop, make sure your code has a condition that can change somewhere inside the loop to make the condition driving the while loop false, otherwise your code will hang and run forever!</b>"
     ]
    },
    {
     "cell_type": "code",
     "collapsed": false,
     "input": [
      "import numpy as np\n",
      "from random import randint\n",
      "condition_win = 0\n",
      "while condition_win == 0:\n",
      "    random_number = randint(0,100)\n",
      "    if random_number > 50:\n",
      "        print \"Since the number was %s, You win the coin toss\" %(random_number)\n",
      "        condition_win = 1\n",
      "    else: \n",
      "        print \"You're a loser and nobody likes you.\" \n"
     ],
     "language": "python",
     "metadata": {},
     "outputs": [
      {
       "output_type": "stream",
       "stream": "stdout",
       "text": [
        "Since the number was 73, You win the coin toss\n"
       ]
      }
     ],
     "prompt_number": 1
    },
    {
     "cell_type": "markdown",
     "metadata": {},
     "source": [
      "That was a pretty dumb game. Notice an additional new piece of syntax. Since a single \"=\" sign is reserved for setting variables equal to things, if you want a conditional to check if a is equal to b, you use the double equals \"==\". \n",
      "\n",
      "\n",
      "Moving on to for loops. For loops are slightly more difficult to understand conceptually, but you will use them a lot more often than while loops. \n",
      "\n",
      "- For loops are iterative loops, that is, you introduce a new variable called an iterator, and that is what changes each time the code is run. \n",
      "\n",
      "- You can use a for loop as a while loop in a sense, the example below shows a for loop and while loop doing the same thing."
     ]
    },
    {
     "cell_type": "code",
     "collapsed": false,
     "input": [
      "##################\n",
      "counter=0\n",
      "while counter<=5:\n",
      "    print \"thing\"\n",
      "    counter += 1\n",
      "##################\n",
      "for i in range(5):\n",
      "    print \"thing\""
     ],
     "language": "python",
     "metadata": {},
     "outputs": []
    },
    {
     "cell_type": "markdown",
     "metadata": {},
     "source": [
      "Notice that the while loop took a bit more work, because it doesn't iterate on its own. I made my own counter, defaulted it to 0, and forcibly increased it each time the while loop ran. The for loop does this by itself. I chose an iterator variable \"i\" and is choosing sequencial \"i\"s from the list produced by range(5) [0,1,2,3,4]. Now, I never actually called \"i\" in my code, so in this case, it ran identically every time. But see what happens in the example below:"
     ]
    },
    {
     "cell_type": "code",
     "collapsed": false,
     "input": [
      "for i in range(5):\n",
      "    print \"thing \" + str(i)"
     ],
     "language": "python",
     "metadata": {},
     "outputs": [
      {
       "output_type": "stream",
       "stream": "stdout",
       "text": [
        "thing 0\n",
        "thing 1\n",
        "thing 2\n",
        "thing 3\n",
        "thing 4\n"
       ]
      }
     ],
     "prompt_number": 3
    },
    {
     "cell_type": "markdown",
     "metadata": {},
     "source": [
      "Each time the loop runs, its choosing the next element from range(5) and plugging it in for \"i\" in the code. A few notes:\n",
      "\n",
      "- We can choose whatever iterator variable name we want. I couldve said \" for element in range(5)\" all that matters is that it's consistent in the loop. Also, once the loop is finished, that variable (i, or elements, or whatever) is wiped from existence. It's only used for controlling the iteration for the loop. \"i\", \"j\", \"k\" are common iterators, especially in a nested loop structure like the one below:"
     ]
    },
    {
     "cell_type": "code",
     "collapsed": false,
     "input": [
      "for i in range(3):\n",
      "    for j in range(2):\n",
      "        for k in range(1):\n",
      "            print i+j+k"
     ],
     "language": "python",
     "metadata": {},
     "outputs": [
      {
       "output_type": "stream",
       "stream": "stdout",
       "text": [
        "0\n",
        "1\n",
        "1\n",
        "2\n",
        "2\n",
        "3\n"
       ]
      }
     ],
     "prompt_number": 10
    },
    {
     "cell_type": "markdown",
     "metadata": {},
     "source": [
      "Spend some time looking at the example above and try to make sure you understand what these loops are doing. The internal loops (most indented) run first, i.e., it will pick 1 i, then 1 j, then run through all k's, then pick the same i, but a new j, and run through all k's, till the j's are done, then pick the next i, etc. \n",
      "\n",
      "\n",
      "Lets test out the random integer calculator from above, and see if it really is replicating a random 50/50 chance (I feel like it's been making me loose far too often). Write a for loop below that will run the block of code 1000 times, and each time, within the if-statements append something (it doesnt actually matter what, I just used the number 1) to two empty arrays defined outside the for loop: win = [] and lose = []. Then compare the lengths of those arrays after the loop has completed and see if over 1000 samples, you get a 50/50 distribution between winning and loosing. <i>Hint: You don't need to call your iterator inside the loop for this one</i>."
     ]
    },
    {
     "cell_type": "code",
     "collapsed": false,
     "input": [
      "win = []\n",
      "lose = []\n",
      "thing = [1.6,3,56,2,4]\n",
      "for i in thing:\n",
      "    print arr[i] \n",
      "    random_number = randint(0,100)\n",
      "    if random_number > 50:\n",
      "        win.append(random_number)\n",
      "    else: \n",
      "        lose.append(1)\n",
      "print len(win)\n",
      "print len(lose)"
     ],
     "language": "python",
     "metadata": {},
     "outputs": [
      {
       "output_type": "stream",
       "stream": "stdout",
       "text": [
        "4813\n",
        "5187\n"
       ]
      }
     ],
     "prompt_number": 10
    },
    {
     "cell_type": "heading",
     "level": 2,
     "metadata": {},
     "source": [
      "Functions"
     ]
    },
    {
     "cell_type": "markdown",
     "metadata": {},
     "source": [
      "- So far, the functions we have used are built into python or part of a package (e.g., numpy, matplotlib). Python also allows you to define your own functions\n",
      "- You can specify which arguments your function takes, and what it returns\n",
      "- Unlike a script (just code in a file), your function doesn\u2019t \u201crun\u201d when your code is run; instead you have to actively call your function (and if your function returns something, you have to set a variable). "
     ]
    },
    {
     "cell_type": "code",
     "collapsed": false,
     "input": [
      "import functions_for_this\n",
      "def play_game():\n",
      "    random_number = randint(0,100)\n",
      "    if random_number > 50:\n",
      "        print \"Since the number was %s, You win the coin toss\" %(random_number)\n",
      "        return \"win\"\n",
      "    else: \n",
      "        print x1\n",
      "        return \"lose\"\n"
     ],
     "language": "python",
     "metadata": {},
     "outputs": [],
     "prompt_number": 19
    },
    {
     "cell_type": "markdown",
     "metadata": {},
     "source": [
      "Notice that if you run the code block above (do it) nothing happens. None the less, your function is now in python. In the block below, run play_game() to run our game. "
     ]
    },
    {
     "cell_type": "code",
     "collapsed": false,
     "input": [
      "outcome = play_game()"
     ],
     "language": "python",
     "metadata": {},
     "outputs": [
      {
       "output_type": "stream",
       "stream": "stdout",
       "text": [
        "You're a loser and nobody likes you.\n"
       ]
      }
     ],
     "prompt_number": 21
    },
    {
     "cell_type": "code",
     "collapsed": false,
     "input": [
      "print outcome\n"
     ],
     "language": "python",
     "metadata": {},
     "outputs": [
      {
       "output_type": "stream",
       "stream": "stdout",
       "text": [
        "lose\n"
       ]
      }
     ],
     "prompt_number": 22
    },
    {
     "cell_type": "markdown",
     "metadata": {},
     "source": [
      "As of right now, we've created a game that doesn't require any input from the user in order to run. That's why the parenthetical argument for the play_game() function doesn't have anything in it. Rewrite the play_game function below, but this time have the user run the game making a choice between heads and tails, and then compare their choice to the outcome of the toss before informing them if they won. I.e., I want to run play_game('heads') and have it tell me if I won or lost. Also, notice our function doesn't currently return anything. Below each print statement in the while loop, add a return statement that returns \"win\" for the first if and \"loss\" for the second. "
     ]
    },
    {
     "cell_type": "markdown",
     "metadata": {},
     "source": [
      "- It is easy to make functions to do small things, but often times it becomes really helpful to use them on big chunks of your code (like a pipeline). \n",
      "\n",
      "- Say your job was to pull in some images, do some corrections, do an analysis, and then plot the output. It would be wise to write separate functions to load images/perform corrections, do the analysis, and then plot nicely. \n",
      "\n",
      "- When you put all of your code into \"chunks\" that are functions, you have to pipe the outputs of previous functions into the input of new ones. This seems like a lot of extra work, but there are some major advantages. For example, say you have a code of several thousand lines, and something goes to shit. If everything is just coded linearly, it could take you days to find the bug. On the other hand, if the code is in functions, you can test each function to make sure it works, and if all the functions work individually, you can start running your data through more and more of them till the error occurs, thus allowing you to focus in on it quickly. "
     ]
    },
    {
     "cell_type": "code",
     "collapsed": false,
     "input": [],
     "language": "python",
     "metadata": {},
     "outputs": []
    }
   ],
   "metadata": {}
  }
 ]
}