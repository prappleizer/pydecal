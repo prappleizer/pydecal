{
 "metadata": {
  "name": "",
  "signature": "sha256:54e107f24c4d64dd06fba190385724223e0e5e4045253a8386ce7cf886ea4e0a"
 },
 "nbformat": 3,
 "nbformat_minor": 0,
 "worksheets": [
  {
   "cells": [
    {
     "cell_type": "heading",
     "level": 1,
     "metadata": {},
     "source": [
      "Welcome to Astron 98/198 - Python for Astronomers"
     ]
    },
    {
     "cell_type": "heading",
     "level": 2,
     "metadata": {},
     "source": [
      "An Introduction to Scientific Computing and Data Analysis"
     ]
    },
    {
     "cell_type": "markdown",
     "metadata": {},
     "source": [
      "These notes are in what is known as an ipython notebook. Each cell is self contained, and can contain headings, markdown text (with latex symbol encoding), or runnable code. For example in the following block:"
     ]
    },
    {
     "cell_type": "code",
     "collapsed": false,
     "input": [
      "print \"hello Berkeley\""
     ],
     "language": "python",
     "metadata": {},
     "outputs": [
      {
       "output_type": "stream",
       "stream": "stdout",
       "text": [
        "hello Berkeley\n"
       ]
      }
     ],
     "prompt_number": 2
    },
    {
     "cell_type": "markdown",
     "metadata": {},
     "source": [
      "We see the canonical first command given to any language on first use. If you click on the block and then the play button at the top of the screen, the code will run and output the text. Try it now."
     ]
    },
    {
     "cell_type": "markdown",
     "metadata": {},
     "source": [
      "All code blocks, and even text/headings are editable. Try clicking into the code block above (code blocks are referenced by the \"In []:\" to the left which indicates the line of the code), and changing the word \"world\" to the word \"Berkeley\". Run the block again and it should update to reflect the change."
     ]
    },
    {
     "cell_type": "markdown",
     "metadata": {},
     "source": [
      "Before each lecture, download the ipython notebook file (.ipnb) from bcourses and follow along during the lectures. There will be blocks of code that are deliberately left unfinished (either fill in the blank or simply with commented instructions). We will ask you to experiment and fill in code during lectures for practice before showing the solutions. You can look back on your notes to aid you in completing the tutorials."
     ]
    },
    {
     "cell_type": "code",
     "collapsed": false,
     "input": [],
     "language": "python",
     "metadata": {},
     "outputs": []
    }
   ],
   "metadata": {}
  }
 ]
}