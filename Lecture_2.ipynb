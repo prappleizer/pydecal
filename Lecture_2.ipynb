{
 "metadata": {
  "name": "",
  "signature": "sha256:bfc76d16359173beb1c45c59dd264d00f3722ae9c856d944a14e28ce4f745191"
 },
 "nbformat": 3,
 "nbformat_minor": 0,
 "worksheets": [
  {
   "cells": [
    {
     "cell_type": "heading",
     "level": 1,
     "metadata": {},
     "source": [
      "Python 98/198: Lecture 2 - Arrays, Packages, and Writing Programs"
     ]
    },
    {
     "cell_type": "heading",
     "level": 2,
     "metadata": {},
     "source": [
      "Review of Week 1"
     ]
    },
    {
     "cell_type": "markdown",
     "metadata": {},
     "source": [
      "- UNIX is the OS/environment of many systems we use for programming.\n",
      "- We store files in directories, and we can use commands in the terminal to navigate around, make and delete directories, look at their contents, copy/move/delete files, etc.\n",
      "- We can use the ipython interpreter to do basic math, and to set variables equal to ints, floats, lists, etc. "
     ]
    },
    {
     "cell_type": "heading",
     "level": 2,
     "metadata": {},
     "source": [
      "Python Libraries"
     ]
    },
    {
     "cell_type": "markdown",
     "metadata": {},
     "source": [
      "- Python can do some basic math: +,-,x, / , x^y \n",
      "- To do anything more (sin(x), sqrt(x), plot y vs. x, etc.) we need to import some libraries.\n",
      "- Libraries are collections of functions which increase the usability of python dramatically. \n",
      "- There are libraries for almost every purpose- but a few are essential to almost any code:\n",
      "\n",
      "<b>Numpy</b>, or numerical python, is a library of functions so important it should almost just be built into python. In particular, it contains the \"Array\" datatype that is critical for working with data. \n",
      "\n",
      "<b>Matplotlib.pyplot</b> is a library of functions that allow us to visualize data by plotting it- \n",
      "everything from the most simple x,y dependences to extremely complex 3D datasets. Matplotlib has a huge, daunting set of features. It takes time to learn them, but you gain intuition as you need specific features for your plot and you look up how to implement them in the documentation.\n",
      "\n",
      "<b>Astropy</b> is a library of functions assembled by astronomers. In particular, we will be using the functionality for importing astronomical images."
     ]
    },
    {
     "cell_type": "heading",
     "level": 3,
     "metadata": {},
     "source": [
      "Importing Libraries"
     ]
    },
    {
     "cell_type": "markdown",
     "metadata": {},
     "source": [
      "These libraries have to be imported into our code, or into ipython, if we want to access the functions in them. We have already seen examples of how to import these libraries into our code- but here's an example:"
     ]
    },
    {
     "cell_type": "code",
     "collapsed": false,
     "input": [
      "import numpy as np\n",
      "import matplotlib.pyplot as plt\n"
     ],
     "language": "python",
     "metadata": {},
     "outputs": [],
     "prompt_number": 1
    },
    {
     "cell_type": "markdown",
     "metadata": {},
     "source": [
      "notice the structure is import library_name as our_name. We can choose to name them whatever we want. (if we simply say \"import numpy\" that also works, and the name it is given in your code is \"numpy\". \n",
      "\n",
      "To use a function within the library, we use dot notation and call the library first, then the name of the function (since sometimes you will have multiple libraries imported containing functions of the same name). \n",
      "\n",
      "For example, to create an array of sines of a predefined variable array \u201cx\u201d we could use np.sin(x)- that's where renaming libraries comes in handy. Typing \"plt.plot(x,y)\" is a lot shorter than \"matplotlib.pyplot.plot(x,y)\".\n"
     ]
    },
    {
     "cell_type": "heading",
     "level": 2,
     "metadata": {},
     "source": [
      "Return to Datatypes"
     ]
    },
    {
     "cell_type": "markdown",
     "metadata": {},
     "source": [
      "We have discussed that there are datatypes in python- that an integer has different rules as a float, for example\n",
      "\n",
      "Today we will be focusing on strings and lists and arrays, and how to index/slice through them (hint: you actually did this in your last tutorial). "
     ]
    },
    {
     "cell_type": "heading",
     "level": 3,
     "metadata": {},
     "source": [
      "Numpy Arrays"
     ]
    },
    {
     "cell_type": "markdown",
     "metadata": {},
     "source": [
      "Arrays are part of numpy. Unlike lists, there can only be one data-type within an array (if you enter an array with floats and ints, it converts them all to floats). \n",
      "\n",
      "Arrays are extremely useful. For example, math can be performed on them\u2014 if you divide an array by a number, every single element in the array is divided by that number, etc. \n",
      "\n",
      "To define a numpy array we would use np.array([1,2,3,\u2026]) \n",
      "You can also take any list that has only numbers in it, and turn it into an array by typing np.array(list_name). Notice the syntax relation- to define an array from scratch, we insert the syntax of defining a list (the [ ]) into the np.array function. Thus for a variable that is a list, the variable name can just be inserted into the numpy function. \n",
      "\n",
      "There are other ways to initialize a numpy array of a special type. For example, np.zeros(num) makes an array of zeros with a length num. Np.ones has a similar functionality. We can use np.arange(start, stop, step) which lets you create a list of numbers counting up or down based on a starting and ending position (keep in mind it will create the array from start up to but not including stop). There is actually a similar function for lists, if you need to - range(start, stop, step). You can also make multidimensional arrays and lists, which we will cover a bit later. \n",
      "\n",
      "Try the exercise below:"
     ]
    },
    {
     "cell_type": "heading",
     "level": 3,
     "metadata": {},
     "source": [
      "Indexing arrays"
     ]
    },
    {
     "cell_type": "markdown",
     "metadata": {},
     "source": [
      "The index-able datatypes (strings, lists, and arrays) are made up of units called elements- these are straightforward. Each character in a string, or each comma separated entry in a list or array, constitutes one element. These elements have an index number as follows\n"
     ]
    },
    {
     "cell_type": "code",
     "collapsed": false,
     "input": [
      "list1 = [1, 3, 'cat', 7, 'p']\n",
      "#index:  0  1    2    3   4"
     ],
     "language": "python",
     "metadata": {},
     "outputs": [],
     "prompt_number": 3
    },
    {
     "cell_type": "markdown",
     "metadata": {},
     "source": [
      "As you saw in the last tutorial, you can \"pull\" the ith element of a list/array/string by writing the variable name with square brackets after and an index- run the examples below to see how and then attempt the exercise below!"
     ]
    },
    {
     "cell_type": "code",
     "collapsed": false,
     "input": [
      "print list1[3]\n",
      "#what did this do?\n",
      "print list1[0:3]\n",
      "#What about this?\n",
      "print list1[-1]\n",
      "#and this?"
     ],
     "language": "python",
     "metadata": {},
     "outputs": []
    },
    {
     "cell_type": "code",
     "collapsed": false,
     "input": [
      "#Exercise\n",
      "#1. create an array that contains multiples of 5 from 5 to 500 (including 50). Turn the values into floats.\n",
      "a = np.arange(5,51,5)*1.\n",
      "#2. Now make one that has the same parameters but goes in the opposite direction (50 to 5)\n",
      "b = np.arange(50,4,-5)*1.\n",
      "#3. print the third to last element of the first array. \n",
      "print a[-3]\n",
      "#4. create an array the same length as the one above containing only 5's (the function len() \n",
      "#   might be helpful)\n",
      "c = np.ones(len(b))*5\n",
      "\n",
      "#5. Create a new array that's identical to the second array (hint: try setting the variable equal to \n",
      "#   np.array(old_array) first- just don't set the new list equal to the old one), but where the \n",
      "#   1st through 3rd elements are divided by the 1st through 3rd elements of the first array. \n",
      "d = np.array(b)\n",
      "d[0:3] = d[0:3] / b[0:3]\n",
      "d = np.append(d,6)\n"
     ],
     "language": "python",
     "metadata": {},
     "outputs": [],
     "prompt_number": 4
    },
    {
     "cell_type": "heading",
     "level": 3,
     "metadata": {},
     "source": [
      "Some stuff about strings"
     ]
    },
    {
     "cell_type": "markdown",
     "metadata": {},
     "source": [
      "We showed in the last tutorial that strings can be <i>concatenated</i>, that is, you can use the addition operator \"+\" to take two strings and combine them into one. This can be very helpful, particularly when iterating through files to read in to a program. You can multiply a string by a number to create a string that is itself that many times (eg 'cat'\\*3 gives 'catcatcat'). Also, strings can be indexed just like arrays, with slicing like string_name[0:5]. "
     ]
    },
    {
     "cell_type": "heading",
     "level": 2,
     "metadata": {},
     "source": [
      "Writing a Program"
     ]
    },
    {
     "cell_type": "markdown",
     "metadata": {},
     "source": [
      "- So far we have been putting commands one by one into the python interpreter, but this won\u2019t work for when you have tasks with many lines of code. \n",
      "- We can write a text file containing all the commands we would have used in python, and have python run the list of commands in order, as if we had typed them in one by one to the interpreter. \n",
      "- You can use vim, emacs, sublime, notepad++, enthought, etc. to write code\u2014just DON\u2019T use something like microsoft word, because these programs add extra junk to text you write for formatting purposes. \n",
      "- Even the notepad app on a pc can be used- but the fancy programs like sublime and enthought will color code your text for special python words to make it easier to read and edit.\n",
      "- Commenting: ALWAYS comment your code! It seems dumb at first, and take up time you\u2019d rather be spending moving forward in your code, but trust us, commenting will save time in the long run, because you won\u2019t remember the subtle structure of your code a year later when you need to use it again. And people you share it with will have no clue how to use it.\n",
      "- Once you have written up a file with the commands (each separate command on a new line), save it with the extension \u201c.py\u201d \n",
      "- To run it, open ipython (in the same directory as the file), and type run file_name.py where file_name is whatever you saved it as."
     ]
    },
    {
     "cell_type": "heading",
     "level": 3,
     "metadata": {},
     "source": [
      "Review"
     ]
    },
    {
     "cell_type": "markdown",
     "metadata": {},
     "source": [
      "- For any code we write, we basically always need to import numpy and matplotlib (and possibly astropy) at the top of our code, usually in shorthand. We call functions from these libraries using the dot notation\n",
      "- Arrays and lists can be indexed by element number, starting from zero (or in reverse, starting from -1)\n",
      "- We can arrange the inputs we would originally have typed into python as a program, which can be run all at once, and easily edited, saved, and shared."
     ]
    }
   ],
   "metadata": {}
  }
 ]
}