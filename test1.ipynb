{
 "metadata": {
  "name": "",
  "signature": "sha256:841bb944843eb6e9c7bbd6aeef1852e0edb0aa24c10c07a62d4401a2ba175c49"
 },
 "nbformat": 3,
 "nbformat_minor": 0,
 "worksheets": [
  {
   "cells": [
    {
     "cell_type": "code",
     "collapsed": false,
     "input": [
      "print 'Welcome to ASTRON 98: Python for Astronomers!'"
     ],
     "language": "python",
     "metadata": {},
     "outputs": [
      {
       "output_type": "stream",
       "stream": "stdout",
       "text": [
        "Welcome to ASTRON 98: Python for Astronomers!\n"
       ]
      }
     ],
     "prompt_number": 1
    },
    {
     "cell_type": "heading",
     "level": 1,
     "metadata": {},
     "source": [
      "This is example text"
     ]
    },
    {
     "cell_type": "code",
     "collapsed": false,
     "input": [
      "3+4"
     ],
     "language": "python",
     "metadata": {},
     "outputs": [
      {
       "metadata": {},
       "output_type": "pyout",
       "prompt_number": 2,
       "text": [
        "7"
       ]
      }
     ],
     "prompt_number": 2
    },
    {
     "cell_type": "markdown",
     "metadata": {},
     "source": [
      "Below we have written a skeleton code for an example function. We want this function to take in three numbers, x,y,z. If x is greater than both y and z, we want it to return x. If x is less than y OR z we want to return x + y, and in any other case we want to return z. Fill out the code below, and then run that block and see what the function call below it outputs. It should return 7. *Note, you will have to make sure there are no underlines left hanging around. \n",
      "\n",
      "\n"
     ]
    },
    {
     "cell_type": "code",
     "collapsed": false,
     "input": [
      "def func(x):\n",
      "    if x >5:\n",
      "        return x**3\n",
      "    elif x <5:\n",
      "        return x*2\n",
      "    else:\n",
      "        return x\n",
      "        "
     ],
     "language": "python",
     "metadata": {},
     "outputs": [],
     "prompt_number": 5
    },
    {
     "cell_type": "markdown",
     "metadata": {},
     "source": [
      "In the above example, we tested our code by \"calling\" it with three inputs (where we knew what the answer should be). When we ran the block, python read through the function for syntax errors, but didnt DO anything with it. Only when we called our function did it actually run, and return the value of 7. We can actually integrate this process of testing our functions into one step, in what is known as a doctest. See below:"
     ]
    },
    {
     "cell_type": "code",
     "collapsed": false,
     "input": [],
     "language": "python",
     "metadata": {},
     "outputs": []
    }
   ],
   "metadata": {}
  }
 ]
}