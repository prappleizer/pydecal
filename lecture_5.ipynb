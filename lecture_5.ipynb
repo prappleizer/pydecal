{
 "metadata": {
  "name": "",
  "signature": "sha256:f753692d961090201b4cae4f723eb32e44c6c970b0399be7ee35a21d201cc592"
 },
 "nbformat": 3,
 "nbformat_minor": 0,
 "worksheets": [
  {
   "cells": [
    {
     "cell_type": "heading",
     "level": 1,
     "metadata": {},
     "source": [
      "Lecture 5: Astronomical Images in Python"
     ]
    },
    {
     "cell_type": "heading",
     "level": 2,
     "metadata": {},
     "source": [
      "Working  with 2D arrays"
     ]
    },
    {
     "cell_type": "markdown",
     "metadata": {},
     "source": [
      "- Images in python are stored primarily in indexable, two-dimensional arrays, where you specify a specific value by two index positions rather than one. Each pixel on the original image (basically a \"photon bin\") corresponds to one position in the 2D array we work with in python. \n",
      "\n",
      "- We can use special functions in the Astropy library (or increasingly, the HDF5 library) to load these arrays into python. \n",
      "\n",
      "\n",
      "\n"
     ]
    },
    {
     "cell_type": "heading",
     "level": 3,
     "metadata": {},
     "source": [
      "Indexing Two Dimensional Arrays"
     ]
    },
    {
     "cell_type": "markdown",
     "metadata": {},
     "source": [
      "- When we index two dimensional arrays, we can either pull individual values, or rows/columns, sections of rows columns, and both at the same time (the textbook has some visual examples). \n",
      "\n",
      "- The syntax for pulling different parts of an image are demo'd below, but I haven't bothered creating an actual image to work with so running it will throw an error. "
     ]
    },
    {
     "cell_type": "code",
     "collapsed": false,
     "input": [
      "# Pull a single value- row then column (backwards)\n",
      "# so this is equivalent to the xy pair (345,456) on the image\n",
      "pull_value = image_name[456][345]\n",
      "\n",
      "#Pull the 30th column of the image:\n",
      "pull_col = image_name[:,29]\n",
      "#Pull the 30th row of the image:\n",
      "pull_row = image_name[29,:]\n",
      "\n",
      "#Pull a sub image of certain dimensions out of the image\n",
      "pull_subimg = image_name[456:500,323:350]\n",
      "# We specify the row range and column range using colons, and  \n",
      "# then separate them inside the index by a comma.\n"
     ],
     "language": "python",
     "metadata": {},
     "outputs": []
    },
    {
     "cell_type": "code",
     "collapsed": false,
     "input": [
      "#Excercise!!\n",
      "# Create a 10x10 array using arange.reshape (like last time), and pull\n",
      "# the second, third and fourth columns (at once) into slice_1, and then\n",
      "# pull the fifth, sixth, and seventh row (at once) into slice_2.\n",
      "import numpy as np\n",
      "arr1 = np.arange(100)\n",
      "arr1 = np.reshape(arr1,(10,10))\n",
      "\n",
      "slice1 = arr1[:,1:4]\n",
      "slice2 = arr1[4:7,:]\n",
      "print slice1\n",
      "print '\\n'\n",
      "print slice2\n",
      "\n"
     ],
     "language": "python",
     "metadata": {},
     "outputs": [
      {
       "output_type": "stream",
       "stream": "stdout",
       "text": [
        "[[ 1  2  3]\n",
        " [11 12 13]\n",
        " [21 22 23]\n",
        " [31 32 33]\n",
        " [41 42 43]\n",
        " [51 52 53]\n",
        " [61 62 63]\n",
        " [71 72 73]\n",
        " [81 82 83]\n",
        " [91 92 93]]\n",
        "\n",
        "\n",
        "[[50 51 52 53 54 55 56 57 58 59]\n",
        " [60 61 62 63 64 65 66 67 68 69]\n",
        " [70 71 72 73 74 75 76 77 78 79]]\n"
       ]
      }
     ],
     "prompt_number": 3
    },
    {
     "cell_type": "heading",
     "level": 3,
     "metadata": {},
     "source": [
      "Some Useful Image Transformations"
     ]
    },
    {
     "cell_type": "markdown",
     "metadata": {},
     "source": [
      "- Sometimes we need to flip an image vertically, horizontally, or both. \n",
      "\n",
      "- See below for the syntax for doing this.\n",
      "\n",
      "- Flipping images vertically is especially useful because matplotlib plots images like matrices, with 0,0 in the upper left corner, but we often want it in the lower left. So we can set origin_lower within our plot, but that would flip the image, so running image = image[::-1] will flip the image data, and now things will plot upright."
     ]
    },
    {
     "cell_type": "code",
     "collapsed": false,
     "input": [
      "img_vert_flip = image_name[::-1]\n",
      "#That was a shortcut, the \"full\" way of doing it is\n",
      "img_vert_flip = image_name[::-1,:]\n",
      "\n",
      "img_horizontal_flip = image_name[:,::-1]\n",
      "#We can see this is just the reverse of the first\n",
      "\n",
      "flip_both = image_name[::-1,::-1]"
     ],
     "language": "python",
     "metadata": {},
     "outputs": []
    },
    {
     "cell_type": "heading",
     "level": 2,
     "metadata": {},
     "source": [
      "Pyfits and Astropy"
     ]
    },
    {
     "cell_type": "markdown",
     "metadata": {},
     "source": [
      "- The pyfits and astropy libraries have functions that allow us to load fits images, which is the format most astro images are stored in. \n",
      "\n",
      "- If you can, get these installed before Wed- on a Mac this should be trivial and on a PC it could be easy but it also might not sorry about that I didn't tell you to buy windows. \n",
      "\n",
      "- If you have trouble with installation, we will get you a 2D array of the image from a text file. \n",
      "\n"
     ]
    },
    {
     "cell_type": "heading",
     "level": 3,
     "metadata": {},
     "source": [
      "Installation"
     ]
    },
    {
     "cell_type": "markdown",
     "metadata": {},
     "source": [
      "If you are on mac, open terminal and type \"pip install pyfits\" \n",
      "\n",
      "That should work, assuming you have canopy installed. If it says you dont have pip, go here: https://pip.pypa.io/en/latest/installing.html \n",
      "download the get-pip.py file, and run it in terminal. Then pip will be installed and you can get pyfits. \n",
      "\n",
      "For windows:go to http://www.stsci.edu/institute/software_hardware/pyfits/Download\n",
      "and download the version for windows and python 2.7. Then open canopy, and in the top bar, find and run the \"canopy terminal\" and cd to the directoy where the file above downloaded, cd into the unzipped folder, and then run >>python setup.py install\n",
      "\n",
      "If you have trouble talk to us before class Wednesday, or give up. We cn get you the image for the tutorial either way. If you want to do astro research or lab on your computer though, we recommend getting it working because you'll need it. "
     ]
    },
    {
     "cell_type": "heading",
     "level": 3,
     "metadata": {},
     "source": [
      "Ok, so I have pyfits, now what?"
     ]
    },
    {
     "cell_type": "markdown",
     "metadata": {},
     "source": [
      "- FITS files are the standard for images in astronomy. It stands for \"Flexible Image Transfer System\"\n",
      "\n",
      "- FITS files are preferrable to PNG and JPG style images because they can contain more information than just the image- for example they contain a header file with a lot of useful information about the image (which you often need while actively adjusting your images). \n",
      "\n",
      "- Below is the syntax for loading a fits file\n"
     ]
    },
    {
     "cell_type": "code",
     "collapsed": false,
     "input": [
      "import pyfits as pf \n",
      "hdu = pf.open('path/filename') #same as np.loadtxt as far as path needs\n",
      "#This stores ALL information from the file in HDU- now we can use\n",
      "#dot notation to access the attributes (including the image and header)\n",
      "#in terminal now, typing hdu.<tab> will show you all the attributes \n",
      "image = hdu[0].data\n",
      "header = hdu[0].header\n",
      "#we index at 0 becaude fits files can actually have stacks of images as well\n"
     ],
     "language": "python",
     "metadata": {},
     "outputs": []
    },
    {
     "cell_type": "heading",
     "level": 3,
     "metadata": {},
     "source": [
      "The Header"
     ]
    },
    {
     "cell_type": "markdown",
     "metadata": {},
     "source": [
      "- The header is a dictionary with a lot of useful information about the image you are working with, such as the time and date of the exposure, the exposure length, RA/DEC (where the telescope was pointed in the sky), what kind of filter was being used, etc. \n",
      "- It makes sense to store these as a dictionary, not an array, because we want to be able to index head['RA'] or head['DEC'] rather than some arbitrary index (somehow knowing RA is the 50th element, etc). \n",
      "- Note- dictionaries are NOT case sensitive, so head['dec'] == head['DEC']"
     ]
    },
    {
     "cell_type": "heading",
     "level": 3,
     "metadata": {},
     "source": [
      "The Image"
     ]
    },
    {
     "cell_type": "markdown",
     "metadata": {},
     "source": [
      "- We now have a variable called image with the raw 2D array. We can immediately plot it using a new plotting command called imshow(see below): \n",
      "\n",
      "- image is the only needed argument- the origin command moves the origin to the right corner, and c map choses a color palate (in this case reversed gray). There are a few other commands we will work with to make our plotted images come out with the right contrast. "
     ]
    },
    {
     "cell_type": "code",
     "collapsed": false,
     "input": [
      "plt.imshow(image, origin='lower',cmap='gray_r') \n",
      "#Where image was gotten by indexing hdu above"
     ],
     "language": "python",
     "metadata": {},
     "outputs": []
    }
   ],
   "metadata": {}
  }
 ]
}