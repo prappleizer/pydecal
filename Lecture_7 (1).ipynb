{
 "metadata": {
  "name": "",
  "signature": "sha256:72ad63d95e9058adf40d828cd79fcd8b5d400d9d4114f968bfe7825d99bf4e34"
 },
 "nbformat": 3,
 "nbformat_minor": 0,
 "worksheets": [
  {
   "cells": [
    {
     "cell_type": "heading",
     "level": 1,
     "metadata": {},
     "source": [
      "Lecture Seven: Classes and Simulations"
     ]
    },
    {
     "cell_type": "markdown",
     "metadata": {},
     "source": [
      "Last week, we introduced classes and object oriented programing. To reiterate, classes allow us to organize information that is easily accessible through dot notation. Methods are functions specific to classes. When classes are initialized, it is an instance of that specific class. In the last lecture we created a planet class. We can make modify this slightly to be a classes for stars\n"
     ]
    },
    {
     "cell_type": "code",
     "collapsed": false,
     "input": [
      "G = 6.67e-11\n",
      "class star(object):\n",
      "    def __init__(self, mass, position):\n",
      "        self.mass = mass\n",
      "        self.position = position\n",
      "    def grav(self, body2):\n",
      "        return G*self.mass * body2.mass/((self.position - body2.position)**2)\n",
      "star1 = star(1000, 10)\n",
      "star2 = star(1500, 25)\n",
      "grav1_2 = star1.grav(star2)"
     ],
     "language": "python",
     "metadata": {},
     "outputs": []
    },
    {
     "cell_type": "markdown",
     "metadata": {},
     "source": [
      "Classes are very useful for creating many things with different parameters but with the same methods. Many of the tools we have used in this course have been methods associated with lists and arrays."
     ]
    },
    {
     "cell_type": "heading",
     "level": 3,
     "metadata": {},
     "source": [
      "Subclasses"
     ]
    },
    {
     "cell_type": "markdown",
     "metadata": {},
     "source": [
      "Classes are built on the idea of inheritance. For example, our planet class we defined above is actually a subclass of the greater class called object  which is defined in python. Inheriting from it sets our class up so that we can use all of the tools available to an object in python. Subclasses inherit the properties from their super class and have more specified methods and attributes. Perhaps a more clear example is that of pets. One might have a general class that describes pets but might have subclasses of the pet class for dogs, cats, ferrets etc. to assign information and methods that are more specifically associated with each.\n",
      "\n",
      "\n",
      "\n"
     ]
    },
    {
     "cell_type": "code",
     "collapsed": false,
     "input": [
      "G = 6.67e-11\n",
      "mass_sun = 2.2e30 \n",
      "class star(object):\n",
      "    def __init__(self, mass, position):\n",
      "        self.mass = mass\n",
      "        self.position = position\n",
      "    def grav(self, body2):\n",
      "        return G*self.mass * body2.mass/((self.position - body2.position)**2)\n",
      "class whitedwarf(star):\n",
      "    def __init__(self, mass, position):\n",
      "        star.__init__(self, mass, position)\n",
      "        if self.mass >= 1.44*mass_sun:\n",
      "            print 'this star gonna explode or collapse or something'\n",
      "class neutron(star):\n",
      "    def __init__(self, mass, position, pulse_rate=0):\n",
      "        #some  neutron stars are also pulsars\n",
      "        #it might even be helpful to have a pulsar subclass of neutron stars\n",
      "        star.__init__(self, mass, position)\n",
      "        self.pulse_rate = pulse_rate\n",
      "class blackhole(star):\n",
      "    def __init__(self, mass, position, area):\n",
      "        star.__init__(self, mass, position)\n",
      "        self.area= area\n",
      "    def entropy(self):\n",
      "        #black hole entropy is proportional to its surface area\n",
      "        return area/4."
     ],
     "language": "python",
     "metadata": {},
     "outputs": []
    },
    {
     "cell_type": "heading",
     "level": 3,
     "metadata": {},
     "source": [
      "Simulations"
     ]
    },
    {
     "cell_type": "markdown",
     "metadata": {},
     "source": [
      "Computational physics and astrophysics are powerful scientific tools. They allow us to solve complex systems which would otherwise take way too long to solve by hand. We can simultaneously model the movements of many individual particles or bodies with simulations. \n",
      "Simulations take a set of initial conditions and run for a specified number of steps or until a certain condition, such as some sort of equilibrium is reached.\n",
      "For example, if we are to model two bodies which interact via the electromgnetic force we give them an initial charge and mass, in the simplest of cases. The forces between them are determined by their charges and separation and their accelerations are determined by their masses. The bodies will accelerate towards or away from each other dependent on their properties. However, if we want to make an accurate model, we want one which has an adjusts the forces felt between the objects in small enough time steps that we can simulate what might happen in real life. Since you will be working on something similar for tutorial this week, we will leave out the details.\n"
     ]
    },
    {
     "cell_type": "code",
     "collapsed": false,
     "input": [
      "import numpy as np\n",
      "sigma = 10\n",
      "epsilon = 8.85e-12\n",
      "Efield = sigma/epsilon\n",
      "#assume particle has some charge attribute called charge, mass\n",
      "def simulate(particle, nsteps):\n",
      "    time_step = 1\n",
      "    steps= 0\n",
      "    particle_pos=[]\n",
      "    \n",
      "    while steps <= nsteps:\n",
      "        force = particle.charge*Efield\n",
      "        accel = force/particle.mass\n",
      "        #v = a*t\n",
      "        #x = a*t**2/2 +v_0*t\n",
      "        part_pos = accel *time_step**2 +accel*time_step\n",
      "        particle_pos.append(part_pos)\n",
      "        steps+=1\n",
      "    return particle_pos"
     ],
     "language": "python",
     "metadata": {},
     "outputs": []
    }
   ],
   "metadata": {}
  }
 ]
}