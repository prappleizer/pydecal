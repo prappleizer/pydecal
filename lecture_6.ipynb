{
 "metadata": {
  "name": "",
  "signature": "sha256:8df53ca87f94b6e319e03713e0648621641a3822c5dbe5fbca4ab668d0711da8"
 },
 "nbformat": 3,
 "nbformat_minor": 0,
 "worksheets": [
  {
   "cells": [
    {
     "cell_type": "heading",
     "level": 1,
     "metadata": {},
     "source": [
      "Lecture Six: Functions / Review of Weeks 1-5"
     ]
    },
    {
     "cell_type": "markdown",
     "metadata": {},
     "source": [
      "The last few weeks have gone by pretty quickly, and there's been a lot to learn. It is also peak midterm time right now. So generally we take this week as a review of the content we've already covered as well as going over the process of functionalizing your code (if you don't already do so. "
     ]
    },
    {
     "cell_type": "heading",
     "level": 2,
     "metadata": {},
     "source": [
      "Part 1: Review"
     ]
    },
    {
     "cell_type": "heading",
     "level": 3,
     "metadata": {},
     "source": [
      "Variables and Datatypes"
     ]
    },
    {
     "cell_type": "markdown",
     "metadata": {},
     "source": [
      "- In python, all of the quantities we are interested in working in are stored into what are called variables. \n",
      "\n",
      "- We set variables by setting our chosen variable name = value we want it to take. \n",
      "\n",
      "For example, if we want to take the transpose of an array A, (which has already been defined, we would write:"
     ]
    },
    {
     "cell_type": "code",
     "collapsed": false,
     "input": [
      "A = np.transpose(A)"
     ],
     "language": "python",
     "metadata": {},
     "outputs": []
    },
    {
     "cell_type": "markdown",
     "metadata": {},
     "source": [
      "If we had just run the transpose function, python would have done the transpose but not saved it anywhere so we would have no way to access that transposed array. \n",
      "\n",
      "We always have a choice to save the outputs of functions into new variables, or redefine variables we had before if we want to keep the total number of variables down and have no interest in the previous quantity.  "
     ]
    },
    {
     "cell_type": "heading",
     "level": 3,
     "metadata": {},
     "source": [
      "Datatypes"
     ]
    },
    {
     "cell_type": "markdown",
     "metadata": {},
     "source": [
      "The variables that we create have to be one of several available datatypes that python knows how to handle. The rules that apply to each datatype are different, so we want to choose to store our information in the datatype that is most suited to our needs. \n",
      "\n",
      "The primary datatypes we work with are:\n",
      "\n",
      "- Integers, which use little memory but operations with integers return integers. \n",
      "\n",
      "- Floats, which have decimal precision (most data info is here)\n",
      "\n",
      "- Strings, which let us store any characters into a small object\n",
      "\n",
      "- Lists, which allow us to store all datatypes into an ordered set\n",
      "\n",
      "- Numpy Arrays, which do the same, but have different operations and only work with single datatypes \n",
      "\n",
      "- Dictionaries, which let us create lists that are indexed by a special key rather than by position\n",
      "\n",
      "- Booleans (True and False)\n",
      "\n"
     ]
    },
    {
     "cell_type": "heading",
     "level": 3,
     "metadata": {},
     "source": [
      "Indexing"
     ]
    },
    {
     "cell_type": "markdown",
     "metadata": {},
     "source": [
      "Recall that we index the iterable datatypes (strings, lists, arrays) by adding closed brackets to their variable names and the element number we want to access. Most of the tricky parts in programming involve figuring out which elements of a list we are actually interested in (ie, where are the peaks, or the minimums etc). \n",
      "We can index multiple values using colon notation (i.e., thing[1:4]), or for multidimensional arrays, in row column format (thing[1:3,2:4]).\n",
      "\n",
      "And for dictionaries we have the same formatting but we substitute a key in the brackets. \n",
      "\n"
     ]
    },
    {
     "cell_type": "heading",
     "level": 2,
     "metadata": {},
     "source": [
      "Functions"
     ]
    },
    {
     "cell_type": "markdown",
     "metadata": {},
     "source": [
      "Loops make it easy to automate tasks. Just as we have written scripts to perform a variety of tasks, we can write and define functions to do something more specific so we don't have to run whole scripts each time. \n",
      "Splitting programs up into functions makes them easier to read and easier to interface with.\n",
      "A good function should perform a simple task. For example, if you want to convert rest masses into energies you would write something like"
     ]
    },
    {
     "cell_type": "code",
     "collapsed": false,
     "input": [
      "def mass_to_en(mass):\n",
      "    c=3.0e8\n",
      "    return mass*c**2"
     ],
     "language": "python",
     "metadata": {},
     "outputs": []
    },
    {
     "cell_type": "markdown",
     "metadata": {},
     "source": []
    }
   ],
   "metadata": {}
  }
 ]
}